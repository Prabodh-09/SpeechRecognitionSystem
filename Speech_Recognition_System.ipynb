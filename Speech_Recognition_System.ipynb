{
  "nbformat": 4,
  "nbformat_minor": 0,
  "metadata": {
    "colab": {
      "provenance": [],
      "authorship_tag": "ABX9TyNAz2Ptl5BsMqqxyi3AQkBw",
      "include_colab_link": true
    },
    "kernelspec": {
      "name": "python3",
      "display_name": "Python 3"
    },
    "language_info": {
      "name": "python"
    }
  },
  "cells": [
    {
      "cell_type": "markdown",
      "metadata": {
        "id": "view-in-github",
        "colab_type": "text"
      },
      "source": [
        "<a href=\"https://colab.research.google.com/github/Prabodh-09/SpeechRecognitionSystem/blob/main/Speech_Recognition_System.ipynb\" target=\"_parent\"><img src=\"https://colab.research.google.com/assets/colab-badge.svg\" alt=\"Open In Colab\"/></a>"
      ]
    },
    {
      "cell_type": "code",
      "execution_count": 6,
      "metadata": {
        "colab": {
          "base_uri": "https://localhost:8080/"
        },
        "id": "vIrolMrfEvm0",
        "outputId": "537b459f-585a-4237-f7b5-0ba46f4eeca9"
      },
      "outputs": [
        {
          "output_type": "stream",
          "name": "stderr",
          "text": [
            "Some weights of Wav2Vec2ForCTC were not initialized from the model checkpoint at facebook/wav2vec2-large-960h and are newly initialized: ['wav2vec2.masked_spec_embed']\n",
            "You should probably TRAIN this model on a down-stream task to be able to use it for predictions and inference.\n"
          ]
        },
        {
          "output_type": "stream",
          "name": "stdout",
          "text": [
            "Enter the path to your audio file (any format): /content/harvard.wav\n",
            "Loading audio file...\n",
            "Converting audio to 16kHz...\n",
            "Transcribing audio...\n",
            "\n",
            "Transcription:\n",
            "THE STALE SMELL OF OLD BEER LINGERS IT TAKES HEAT TO BRING OUT THE ODOUR A COLD DIP RESTORES HEALTH AND ZEST A SALT PICKLE TASTES FINE WITH HAM TAKO'S AL PASTOR ARE MY FAVORITE A ZESTFUL FOOD IS THE HOT CROSS BUN\n"
          ]
        }
      ],
      "source": [
        "from transformers import Wav2Vec2ForCTC, Wav2Vec2Processor\n",
        "import torchaudio\n",
        "import torchaudio.transforms as transforms\n",
        "\n",
        "# Load the model and processor\n",
        "model_name = \"facebook/wav2vec2-large-960h\"\n",
        "processor = Wav2Vec2Processor.from_pretrained(model_name)\n",
        "model = Wav2Vec2ForCTC.from_pretrained(model_name)\n",
        "\n",
        "# Function to transcribe audio\n",
        "def transcribe_audio():\n",
        "    # Take user input for the file path\n",
        "    file_path = input(\"Enter the path to your audio file (any format): \")\n",
        "\n",
        "    try:\n",
        "        # Load the audio file (automatically handles format conversion)\n",
        "        print(\"Loading audio file...\")\n",
        "        speech, rate = torchaudio.load(file_path)\n",
        "\n",
        "        # Convert to 16kHz (Wav2Vec2 works best with 16kHz)\n",
        "        if rate != 16000:\n",
        "            print(\"Converting audio to 16kHz...\")\n",
        "            resampler = transforms.Resample(orig_freq=rate, new_freq=16000)\n",
        "            speech = resampler(speech)\n",
        "\n",
        "        # Limit the audio to 30 seconds (if longer, only the first 30 seconds are considered)\n",
        "        max_duration = 30 * 16000  # 30 seconds * 16000 samples/sec\n",
        "        speech = speech[:, :max_duration]\n",
        "\n",
        "        # Prepare the audio for the model\n",
        "        input_values = processor(speech.squeeze().numpy(), return_tensors=\"pt\", sampling_rate=16000).input_values\n",
        "\n",
        "        # Perform inference\n",
        "        print(\"Transcribing audio...\")\n",
        "        logits = model(input_values).logits\n",
        "        predicted_ids = logits.argmax(dim=-1)\n",
        "\n",
        "        # Decode the predicted text\n",
        "        transcription = processor.batch_decode(predicted_ids)[0]\n",
        "\n",
        "        print(\"\\nTranscription:\")\n",
        "        print(transcription)\n",
        "\n",
        "    except Exception as e:\n",
        "        print(f\"Error: {e}\\nPlease make sure the file path is correct and the format is supported.\")\n",
        "\n",
        "# Run the function\n",
        "transcribe_audio()\n"
      ]
    },
    {
      "cell_type": "code",
      "source": [],
      "metadata": {
        "id": "X1OItRulGU6n"
      },
      "execution_count": null,
      "outputs": []
    }
  ]
}